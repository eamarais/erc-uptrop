{
 "cells": [
  {
   "cell_type": "code",
   "execution_count": null,
   "id": "4745a96c",
   "metadata": {},
   "outputs": [],
   "source": [
    "from uptrop.cloud_slice_ut_no2 import cldslice, CLOUD_SLICE_ERROR_ENUM\n",
    "# Dummy functions\n",
    "partial_columns = get_partial_cloud_columns()\n",
    "cloud_top_heights = get_cloud_top_heights()\n",
    "\n",
    "ratio, ratio_error, exception_number, mean_cloud_error = cldslice(partial_columns, cloud_top_heights)\n",
    "if exception_number != 0:\n",
    "    print(CLOUD_SLICE_ERROR_ENUM[exception_number])\n",
    "print(\"Cloud ratio: {}\".format(ratio))\n",
    "print(\"Cloud ratio error: {}\".format(ratio_error))\n",
    "print(\"Mean cloud error: {}\".format(mean_cloud_error))"
   ]
  }
 ],
 "metadata": {
  "kernelspec": {
   "display_name": "Python 3 (ipykernel)",
   "language": "python",
   "name": "python3"
  },
  "language_info": {
   "codemirror_mode": {
    "name": "ipython",
    "version": 3
   },
   "file_extension": ".py",
   "mimetype": "text/x-python",
   "name": "python",
   "nbconvert_exporter": "python",
   "pygments_lexer": "ipython3",
   "version": "3.9.7"
  }
 },
 "nbformat": 4,
 "nbformat_minor": 5
}
